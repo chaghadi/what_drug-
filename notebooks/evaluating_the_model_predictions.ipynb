{
 "cells": [
  {
   "cell_type": "code",
   "execution_count": 27,
   "id": "957d27d8-96d7-4ab9-a4d7-dad3ffbb9b75",
   "metadata": {},
   "outputs": [
    {
     "name": "stdout",
     "output_type": "stream",
     "text": [
      "Test Accuracy: 0.9455\n"
     ]
    }
   ],
   "source": [
    "from pyspark.ml.evaluation import MulticlassClassificationEvaluator\n",
    "\n",
    "# Predict on test data\n",
    "predictions = model.transform(test_data)\n",
    "\n",
    "# Evaluate accuracy\n",
    "evaluator = MulticlassClassificationEvaluator(labelCol=\"label\", predictionCol=\"prediction\", metricName=\"accuracy\")\n",
    "accuracy = evaluator.evaluate(predictions)\n",
    "\n",
    "print(f\"Test Accuracy: {accuracy:.4f}\")"
   ]
  },
  {
   "cell_type": "code",
   "execution_count": 32,
   "id": "ba6874b5-e71d-4047-a6a3-e736240b7227",
   "metadata": {},
   "outputs": [
    {
     "name": "stdout",
     "output_type": "stream",
     "text": [
      "+-----+----------+-----+\n",
      "|label|prediction|count|\n",
      "+-----+----------+-----+\n",
      "|  1.0|       1.0|   17|\n",
      "|  2.0|       2.0|    7|\n",
      "|  2.0|       3.0|    3|\n",
      "|  4.0|       4.0|    6|\n",
      "|  0.0|       0.0|   20|\n",
      "|  3.0|       3.0|    2|\n",
      "+-----+----------+-----+\n",
      "\n"
     ]
    }
   ],
   "source": [
    "# Confusion matrix\n",
    "conf_matrix = predictions.groupBy(\"label\", \"prediction\").count()\n",
    "conf_matrix.coalesce(1).write.mode(\"overwrite\").csv(\"../outputs/confusion_matrix\")\n",
    "conf_matrix.show()\n"
   ]
  },
  {
   "cell_type": "code",
   "execution_count": 33,
   "id": "5d9b5050-9440-4d4e-b44f-7d3a8877019e",
   "metadata": {},
   "outputs": [
    {
     "name": "stdout",
     "output_type": "stream",
     "text": [
      "Precision: 0.9782\n",
      "Recall: 0.9455\n",
      "F1 Score: 0.9523\n"
     ]
    }
   ],
   "source": [
    "from pyspark.ml.evaluation import MulticlassClassificationEvaluator\n",
    "\n",
    "# Evaluators\n",
    "precision_evaluator = MulticlassClassificationEvaluator(labelCol=\"label\", predictionCol=\"prediction\", metricName=\"weightedPrecision\")\n",
    "recall_evaluator = MulticlassClassificationEvaluator(labelCol=\"label\", predictionCol=\"prediction\", metricName=\"weightedRecall\")\n",
    "f1_evaluator = MulticlassClassificationEvaluator(labelCol=\"label\", predictionCol=\"prediction\", metricName=\"f1\")\n",
    "\n",
    "# Scores\n",
    "precision = precision_evaluator.evaluate(predictions)\n",
    "recall = recall_evaluator.evaluate(predictions)\n",
    "f1 = f1_evaluator.evaluate(predictions)\n",
    "\n",
    "# Print scores\n",
    "print(f\"Precision: {precision:.4f}\")\n",
    "print(f\"Recall: {recall:.4f}\")\n",
    "print(f\"F1 Score: {f1:.4f}\")\n",
    "\n",
    "# Save to file\n",
    "output_path = \"../outputs/eval_metrics.txt\"\n",
    "with open(output_path, \"w\") as f:\n",
    "    f.write(f\"Precision: {precision:.4f}\\n\")\n",
    "    f.write(f\"Recall: {recall:.4f}\\n\")\n",
    "    f.write(f\"F1 Score: {f1:.4f}\\n\")\n"
   ]
  },
  {
   "cell_type": "code",
   "execution_count": 37,
   "id": "814d6bbb-0356-408a-95dc-df70f0437e02",
   "metadata": {},
   "outputs": [
    {
     "name": "stdout",
     "output_type": "stream",
     "text": [
      "✅ Confusion matrix and predictions saved to outputs folder.\n"
     ]
    },
    {
     "data": {
      "image/png": "[encoded data removed]",
      "text/plain": [
       "<Figure size 576x432 with 2 Axes>"
      ]
     },
     "metadata": {
      "needs_background": "light"
     },
     "output_type": "display_data"
    }
   ],
   "source": [
    "from pyspark.sql.functions import udf\n",
    "from pyspark.sql.types import StringType\n",
    "import pandas as pd\n",
    "import matplotlib.pyplot as plt\n",
    "import seaborn as sns\n",
    "\n",
    "# Define mapping (replace with your actual label mapping)\n",
    "label_mapping = {\n",
    "    0: \"drugA\",\n",
    "    1: \"drugB\",\n",
    "    2: \"drugC\",\n",
    "    3: \"drugX\",\n",
    "    4: \"drugY\"\n",
    "}\n",
    "\n",
    "# UDF to convert index to drug name\n",
    "def idx_to_label(index):\n",
    "    return label_mapping[int(index)]\n",
    "\n",
    "idx_to_label_udf = udf(idx_to_label, StringType())\n",
    "\n",
    "# Add readable label columns\n",
    "predictions_named = predictions.withColumn(\"actual_drug\", idx_to_label_udf(\"label\")) \\\n",
    "                               .withColumn(\"predicted_drug\", idx_to_label_udf(\"prediction\"))\n",
    "\n",
    "# Convert to Pandas DataFrame for styling and saving\n",
    "preds_pd = predictions_named.select(\"actual_drug\", \"predicted_drug\").toPandas()\n",
    "\n",
    "# Create confusion matrix\n",
    "conf_matrix = pd.crosstab(preds_pd[\"actual_drug\"], preds_pd[\"predicted_drug\"], rownames=[\"Actual\"], colnames=[\"Predicted\"])\n",
    "\n",
    "# Plot confusion matrix with seaborn\n",
    "plt.figure(figsize=(8,6))\n",
    "sns.heatmap(conf_matrix, annot=True, fmt='d', cmap='YlGnBu')\n",
    "plt.title(\"Confusion Matrix\")\n",
    "plt.tight_layout()\n",
    "\n",
    "# Save confusion matrix plot\n",
    "plt.savefig(\"../outputs/confusion_matrix.png\", dpi=300)\n",
    "\n",
    "# Save pretty table as HTML\n",
    "styled = preds_pd.head(20).style.set_table_attributes(\"style='font-size:12px'\").set_caption(\"Sample Predictions\")\\\n",
    "    .applymap(lambda v: \"background-color: lightgreen\" if preds_pd.actual_drug.equals(preds_pd.predicted_drug) else \"\")\n",
    "with open(\"../outputs/predictions_table.html\", \"w\") as f:\n",
    "    f.write(styled.render())\n",
    "\n",
    "print(\"✅ Confusion matrix and predictions saved to outputs folder.\")\n"
   ]
  },
  {
   "cell_type": "code",
   "execution_count": null,
   "id": "2eaba2ef-b8f9-4f95-b290-8a7bfd1c743d",
   "metadata": {},
   "outputs": [],
   "source": []
  }
 ],
 "metadata": {
  "kernelspec": {
   "display_name": "Python 3",
   "language": "python",
   "name": "python3"
  },
  "language_info": {
   "codemirror_mode": {
    "name": "ipython",
    "version": 3
   },
   "file_extension": ".py",
   "mimetype": "text/x-python",
   "name": "python",
   "nbconvert_exporter": "python",
   "pygments_lexer": "ipython3",
   "version": "3.6.8"
  }
 },
 "nbformat": 4,
 "nbformat_minor": 5
}
