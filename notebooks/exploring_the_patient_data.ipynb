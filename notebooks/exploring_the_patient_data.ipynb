{
 "cells": [
  {
   "cell_type": "code",
   "execution_count": null,
   "id": "61ec01e5-a244-478a-8938-b0479d486a2f",
   "metadata": {},
   "outputs": [],
   "source": [
    "!pip install pyspark"
   ]
  },
  {
   "cell_type": "markdown",
   "id": "a5408e70-a198-4e8b-8869-6bc2de982921",
   "metadata": {},
   "source": [
    "We explore the dataset below"
   ]
  },
  {
   "cell_type": "code",
   "execution_count": 1,
   "id": "f48f4b00-86aa-40a4-beb7-1278eb75edc4",
   "metadata": {},
   "outputs": [
    {
     "name": "stderr",
     "output_type": "stream",
     "text": [
      "/Library/Frameworks/Python.framework/Versions/3.6/lib/python3.6/site-packages/pyspark/context.py:238: FutureWarning: Python 3.6 support is deprecated in Spark 3.2.\n",
      "  FutureWarning\n"
     ]
    }
   ],
   "source": [
    "from pyspark.sql import SparkSession\n",
    "\n",
    "# Create a Spark session\n",
    "spark = SparkSession.builder.appName(\"DrugClassifier\").getOrCreate()\n"
   ]
  },
  {
   "cell_type": "code",
   "execution_count": 2,
   "id": "8551bee6-0cf4-4535-922c-dacb3363dac8",
   "metadata": {},
   "outputs": [
    {
     "name": "stdout",
     "output_type": "stream",
     "text": [
      "+---+---+------+-----------+-------+-----+\n",
      "|Age|Sex|    BP|Cholesterol|Na_to_K| Drug|\n",
      "+---+---+------+-----------+-------+-----+\n",
      "| 23|  F|  HIGH|       HIGH| 25.355|drugY|\n",
      "| 47|  M|   LOW|       HIGH| 13.093|drugC|\n",
      "| 47|  M|   LOW|       HIGH| 10.114|drugC|\n",
      "| 28|  F|NORMAL|       HIGH|  7.798|drugX|\n",
      "| 61|  F|   LOW|       HIGH| 18.043|drugY|\n",
      "+---+---+------+-----------+-------+-----+\n",
      "only showing top 5 rows\n",
      "\n",
      "root\n",
      " |-- Age: integer (nullable = true)\n",
      " |-- Sex: string (nullable = true)\n",
      " |-- BP: string (nullable = true)\n",
      " |-- Cholesterol: string (nullable = true)\n",
      " |-- Na_to_K: double (nullable = true)\n",
      " |-- Drug: string (nullable = true)\n",
      "\n"
     ]
    }
   ],
   "source": [
    "\n",
    "# Load the cleaned CSV\n",
    "df = spark.read.csv(\"../data/drug200.csv\", header=True, inferSchema=True)\n",
    "\n",
    "df.show(5)\n",
    "df.printSchema()\n"
   ]
  },
  {
   "cell_type": "code",
   "execution_count": 3,
   "id": "f371c116-44f2-4131-9281-f8de882e8ecb",
   "metadata": {},
   "outputs": [
    {
     "name": "stdout",
     "output_type": "stream",
     "text": [
      "+---+------+-----------+-----+\n",
      "|Sex|    BP|Cholesterol| Drug|\n",
      "+---+------+-----------+-----+\n",
      "|  M|NORMAL|       HIGH|drugX|\n",
      "|  F|  HIGH|       HIGH|drugA|\n",
      "|  F|  HIGH|       HIGH|drugB|\n",
      "|  M|   LOW|       HIGH|drugY|\n",
      "|  M|NORMAL|       HIGH|drugY|\n",
      "+---+------+-----------+-----+\n",
      "only showing top 5 rows\n",
      "\n"
     ]
    }
   ],
   "source": [
    "# View unique values for categorical columns\n",
    "df.select(\"Sex\", \"BP\", \"Cholesterol\", \"Drug\").distinct().show(5)\n"
   ]
  }
 ],
 "metadata": {
  "kernelspec": {
   "display_name": "Python 3",
   "language": "python",
   "name": "python3"
  },
  "language_info": {
   "codemirror_mode": {
    "name": "ipython",
    "version": 3
   },
   "file_extension": ".py",
   "mimetype": "text/x-python",
   "name": "python",
   "nbconvert_exporter": "python",
   "pygments_lexer": "ipython3",
   "version": "3.6.8"
  }
 },
 "nbformat": 4,
 "nbformat_minor": 5
}
