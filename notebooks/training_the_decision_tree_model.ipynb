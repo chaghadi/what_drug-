{
 "cells": [
  {
   "cell_type": "markdown",
   "id": "4efc2d95-c8f1-49b0-b761-4c32b1974807",
   "metadata": {},
   "source": [
    "# Training the Decision Tree Model\n",
    "\n",
    "We train a multiclass Decision Tree Classifier using PySpark to predict drug response based on patient data.\n"
   ]
  },
  {
   "cell_type": "code",
   "execution_count": 10,
   "id": "7c7ef616-9cb7-497d-bd4e-bb3b293e041e",
   "metadata": {},
   "outputs": [],
   "source": [
    "from pyspark.ml.feature import StringIndexer\n",
    "\n",
    "# Index categorical features and label\n",
    "sex_indexer = StringIndexer(inputCol=\"Sex\", outputCol=\"Sex_idx\")\n",
    "bp_indexer = StringIndexer(inputCol=\"BP\", outputCol=\"BP_idx\")\n",
    "chol_indexer = StringIndexer(inputCol=\"Cholesterol\", outputCol=\"Cholesterol_idx\")\n",
    "label_indexer = StringIndexer(inputCol=\"Drug\", outputCol=\"label\")\n"
   ]
  },
  {
   "cell_type": "code",
   "execution_count": 15,
   "id": "94983529-5d18-4776-8d3c-55eedd12bebc",
   "metadata": {},
   "outputs": [],
   "source": [
    "from pyspark.ml.feature import VectorAssembler\n",
    "\n",
    "# Combine all features into one vector\n",
    "assembler = VectorAssembler(\n",
    "    inputCols=[\"Age\", \"Na_to_K\", \"Sex_idx\", \"BP_idx\", \"Cholesterol_idx\"],\n",
    "    outputCol=\"features\"\n",
    ")\n"
   ]
  },
  {
   "cell_type": "code",
   "execution_count": 19,
   "id": "ee993e71-ba4f-4d51-9d08-95a286447fd8",
   "metadata": {},
   "outputs": [
    {
     "name": "stdout",
     "output_type": "stream",
     "text": [
      "+-------------------------+-----+\n",
      "|features                 |label|\n",
      "+-------------------------+-----+\n",
      "|[23.0,25.355,1.0,0.0,0.0]|0.0  |\n",
      "|[47.0,13.093,0.0,1.0,0.0]|4.0  |\n",
      "|[47.0,10.114,0.0,1.0,0.0]|4.0  |\n",
      "|[28.0,7.798,1.0,2.0,0.0] |1.0  |\n",
      "|[61.0,18.043,1.0,1.0,0.0]|0.0  |\n",
      "+-------------------------+-----+\n",
      "only showing top 5 rows\n",
      "\n"
     ]
    }
   ],
   "source": [
    "from pyspark.ml import Pipeline\n",
    "\n",
    "# Define pipeline\n",
    "pipeline = Pipeline(stages=[sex_indexer, bp_indexer, chol_indexer, label_indexer, assembler])\n",
    "\n",
    "# Fit and transform the data\n",
    "data = pipeline.fit(df).transform(df)\n",
    "\n",
    "# Show processed features\n",
    "data.select(\"features\", \"label\").show(5, truncate=False)\n"
   ]
  },
  {
   "cell_type": "code",
   "execution_count": 22,
   "id": "33042e00-93e0-45bd-8b31-5582c8ed9596",
   "metadata": {},
   "outputs": [
    {
     "name": "stdout",
     "output_type": "stream",
     "text": [
      "+---+---+----+-----------+-------+-----+-------+------+---------------+-----+--------------------+\n",
      "|Age|Sex|  BP|Cholesterol|Na_to_K| Drug|Sex_idx|BP_idx|Cholesterol_idx|label|            features|\n",
      "+---+---+----+-----------+-------+-----+-------+------+---------------+-----+--------------------+\n",
      "| 15|  F|HIGH|     NORMAL| 16.725|drugY|    1.0|   0.0|            1.0|  0.0|[15.0,16.725,1.0,...|\n",
      "| 15|  M|HIGH|     NORMAL| 17.206|drugY|    0.0|   0.0|            1.0|  0.0|[15.0,17.206,0.0,...|\n",
      "+---+---+----+-----------+-------+-----+-------+------+---------------+-----+--------------------+\n",
      "only showing top 2 rows\n",
      "\n"
     ]
    }
   ],
   "source": [
    "train_data, test_data = data.randomSplit([0.7, 0.3], seed=42)\n",
    "train_data.show(2)"
   ]
  },
  {
   "cell_type": "code",
   "execution_count": 23,
   "id": "d3d0915a-ec59-41a2-b4b8-7469fdce8c56",
   "metadata": {},
   "outputs": [],
   "source": [
    "from pyspark.ml.classification import DecisionTreeClassifier\n",
    "\n",
    "dt = DecisionTreeClassifier(featuresCol=\"features\", labelCol=\"label\")\n",
    "model = dt.fit(train_data)\n"
   ]
  },
  {
   "cell_type": "code",
   "execution_count": 24,
   "id": "40a53631-c27d-41e9-b627-059848e3e308",
   "metadata": {},
   "outputs": [],
   "source": [
    "model.save(\"../models/decision_tree_model\")\n"
   ]
  },
  {
   "cell_type": "markdown",
   "id": "cd99de5a-e76f-46b3-a017-f51a1c3cf836",
   "metadata": {},
   "source": [
    "### Summary\n",
    "\n",
    "- Trained a Decision Tree on patient drug response data.\n",
    "- Encoded categorical variables using StringIndexer.\n",
    "- Assembled input features and saved trained model to disk.\n"
   ]
  },
  {
   "cell_type": "code",
   "execution_count": null,
   "id": "36992ec4-f7b5-4ca9-9350-53325002ba9a",
   "metadata": {},
   "outputs": [],
   "source": []
  }
 ],
 "metadata": {
  "kernelspec": {
   "display_name": "Python 3",
   "language": "python",
   "name": "python3"
  },
  "language_info": {
   "codemirror_mode": {
    "name": "ipython",
    "version": 3
   },
   "file_extension": ".py",
   "mimetype": "text/x-python",
   "name": "python",
   "nbconvert_exporter": "python",
   "pygments_lexer": "ipython3",
   "version": "3.6.8"
  }
 },
 "nbformat": 4,
 "nbformat_minor": 5
}
